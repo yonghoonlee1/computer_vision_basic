{
 "cells": [
  {
   "cell_type": "code",
   "execution_count": 1,
   "id": "09bb4f44",
   "metadata": {},
   "outputs": [
    {
     "name": "stderr",
     "output_type": "stream",
     "text": [
      "Downloading detection model, please wait. This may take several minutes depending upon your network connection.\n"
     ]
    },
    {
     "name": "stdout",
     "output_type": "stream",
     "text": [
      "Progress: |██████████████████████████████████████████████████| 100.0% Complete"
     ]
    },
    {
     "name": "stderr",
     "output_type": "stream",
     "text": [
      "Downloading recognition model, please wait. This may take several minutes depending upon your network connection.\n"
     ]
    },
    {
     "name": "stdout",
     "output_type": "stream",
     "text": [
      "Progress: |██████████████████████████████████████████████████| 100.1% Complete"
     ]
    },
    {
     "name": "stderr",
     "output_type": "stream",
     "text": [
      "/opt/anaconda3/envs/ocr/lib/python3.10/site-packages/torch/utils/data/dataloader.py:684: UserWarning: 'pin_memory' argument is set as true but not supported on MPS now, then device pinned memory won't be used.\n",
      "  warnings.warn(warn_msg)\n"
     ]
    },
    {
     "name": "stdout",
     "output_type": "stream",
     "text": [
      "인식된 텍스트: 영수증 상세 (신뢰도: 0.99)\n",
      "인식된 텍스트: CU올지로파인애비뉴점 (신뢰도: 0.49)\n",
      "인식된 텍스트: 2,000원 (신뢰도: 0.92)\n",
      "인식된 텍스트: 신한 신용카드 (0188) (신뢰도: 1.00)\n",
      "인식된 텍스트: 승인 일시 (신뢰도: 1.00)\n",
      "인식된 텍스트: 2019-06-11 17:41:08 (신뢰도: 0.91)\n",
      "인식된 텍스트: 승인 번호 (신뢰도: 1.00)\n",
      "인식된 텍스트: 30720911 (신뢰도: 0.69)\n",
      "인식된 텍스트: 거래유형 (신뢰도: 1.00)\n",
      "인식된 텍스트: 승인 (신뢰도: 1.00)\n",
      "인식된 텍스트: 할부 (신뢰도: 0.72)\n",
      "인식된 텍스트: 일시분 (신뢰도: 0.51)\n",
      "인식된 텍스트: 공급가액 (신뢰도: 0.99)\n",
      "인식된 텍스트: 1,819원 (신뢰도: 1.00)\n",
      "인식된 텍스트: 부가세 (신뢰도: 1.00)\n",
      "인식된 텍스트: 181원 (신뢰도: 0.70)\n",
      "인식된 텍스트: 봉사료 (신뢰도: 0.99)\n",
      "인식된 텍스트: 0원 (신뢰도: 0.91)\n",
      "인식된 텍스트: 가맣점명 (신뢰도: 0.39)\n",
      "인식된 텍스트: CU올지로파인애비뉴점 (신뢰도: 0.56)\n",
      "인식된 텍스트: 사업자 번호 (신뢰도: 0.97)\n",
      "인식된 텍스트: 232-21-00198 (신뢰도: 0.46)\n",
      "인식된 텍스트: 가행점 번호 (신뢰도: 0.67)\n",
      "인식된 텍스트: 0100422088 (신뢰도: 0.89)\n"
     ]
    }
   ],
   "source": [
    "import easyocr\n",
    "reader = easyocr.Reader(['ko', 'en'])  # 한국어 + 영어\n",
    "results = reader.readtext('image.png')\n",
    "\n",
    "for bbox, text, prob in results:\n",
    "    print(f\"인식된 텍스트: {text} (신뢰도: {prob:.2f})\")"
   ]
  }
 ],
 "metadata": {
  "kernelspec": {
   "display_name": "ocr",
   "language": "python",
   "name": "python3"
  },
  "language_info": {
   "codemirror_mode": {
    "name": "ipython",
    "version": 3
   },
   "file_extension": ".py",
   "mimetype": "text/x-python",
   "name": "python",
   "nbconvert_exporter": "python",
   "pygments_lexer": "ipython3",
   "version": "3.10.18"
  }
 },
 "nbformat": 4,
 "nbformat_minor": 5
}
